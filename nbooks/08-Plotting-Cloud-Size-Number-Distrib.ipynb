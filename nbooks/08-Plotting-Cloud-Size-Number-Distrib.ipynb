{
 "cells": [
  {
   "cell_type": "markdown",
   "id": "4ffb3e84-1700-4e55-9716-cf525b7bdc9b",
   "metadata": {},
   "source": [
    "# Plotting Cloud Size Number Distributions"
   ]
  },
  {
   "cell_type": "markdown",
   "id": "80a9927f-f57a-4c82-9f20-704b37f42e08",
   "metadata": {},
   "source": [
    "## Libs Sections "
   ]
  },
  {
   "cell_type": "code",
   "execution_count": 1,
   "id": "b4bb6c01-02ac-40d5-a7c7-1ff399acfdaa",
   "metadata": {
    "tags": []
   },
   "outputs": [],
   "source": [
    "import xarray as xr\n",
    "import numpy as np\n",
    "import pandas as pd\n",
    "\n",
    "import matplotlib.pyplot as plt\n",
    "import seaborn as sns\n",
    "#sns.set_context('talk')\n",
    "import cartopy.crs as ccrs\n",
    "import cartopy.feature as cf\n",
    "\n",
    "\n",
    "import glob\n",
    "\n",
    "import tobac\n",
    "import sys\n",
    "import json\n",
    "\n",
    "\n"
   ]
  },
  {
   "cell_type": "markdown",
   "id": "77e6b7e2-0955-4c52-bff5-2d2a5dd64c11",
   "metadata": {},
   "source": [
    "## Arguments"
   ]
  },
  {
   "cell_type": "code",
   "execution_count": 2,
   "id": "b140efe8-991e-49d4-a1f4-6e7bb062deae",
   "metadata": {
    "tags": []
   },
   "outputs": [],
   "source": [
    "if 'launcher' in sys.argv[0]:\n",
    "    config_file = '../scripts/config/config_precip500.json'\n",
    "    date = '202006'\n",
    "    interactive = True\n",
    "else:\n",
    "    config_file = sys.argv[1]\n",
    "    date = sys.argv[2]\n",
    "    interactive = False"
   ]
  },
  {
   "cell_type": "markdown",
   "id": "4a529d25-8a0f-4557-97b8-b3f2b68bb5df",
   "metadata": {},
   "source": [
    "## Configuration"
   ]
  },
  {
   "cell_type": "code",
   "execution_count": 3,
   "id": "471a7f9f-a2d9-4f72-9716-9e554c4cb026",
   "metadata": {},
   "outputs": [],
   "source": [
    "with open(config_file, \"r\") as fp:\n",
    "    conf = json.load(fp)\n",
    "globals().update(conf)"
   ]
  },
  {
   "cell_type": "markdown",
   "id": "eaca5569-71b2-4316-9d12-d026e6ead9a7",
   "metadata": {},
   "source": [
    "## Input Data "
   ]
  },
  {
   "cell_type": "code",
   "execution_count": 4,
   "id": "29216675-cee5-41a9-a187-dbd64c0fefaa",
   "metadata": {
    "tags": []
   },
   "outputs": [],
   "source": [
    "main_dir = \"/work/bb1376/user/fabian/data/oxford-hackathon\"\n",
    "subname = f\"{vname}_features_thresh{threshold}\"\n",
    "\n",
    "input_dir = f\"/{main_dir}/{model}/{experiment}/{subname}\"\n",
    "infile = f'{input_dir}/monthly_{subname}_{date}.nc'\n",
    "\n",
    "tracks = xr.open_dataset( infile )"
   ]
  },
  {
   "cell_type": "code",
   "execution_count": 5,
   "id": "f8ead8bc-7be0-4a31-8edc-bdf9282ffecc",
   "metadata": {},
   "outputs": [],
   "source": [
    "tracks['ones'] = xr.ones_like( tracks['total'] )"
   ]
  },
  {
   "cell_type": "code",
   "execution_count": 6,
   "id": "ce821e2b-8d39-4bb2-b215-9649619bb922",
   "metadata": {},
   "outputs": [],
   "source": [
    "tracks['diameter'] = 2*np.sqrt( tracks['area'] / np.pi )"
   ]
  },
  {
   "cell_type": "code",
   "execution_count": 7,
   "id": "8d9f4e2a-f914-4961-9956-4afc11a5b480",
   "metadata": {},
   "outputs": [
    {
     "data": {
      "text/plain": [
       "(<xarray.DataArray 'diameter' ()> Size: 8B\n",
       " array(3299.34103506),\n",
       " <xarray.DataArray 'diameter' ()> Size: 8B\n",
       " array(133581.27820736))"
      ]
     },
     "execution_count": 7,
     "metadata": {},
     "output_type": "execute_result"
    }
   ],
   "source": [
    "tracks['diameter'].min(), tracks['diameter'].max()\n"
   ]
  },
  {
   "cell_type": "code",
   "execution_count": 8,
   "id": "fc460adc-f20d-4dc4-869b-0d611bf2114a",
   "metadata": {},
   "outputs": [],
   "source": [
    "tracks = tracks.set_coords('time')"
   ]
  },
  {
   "cell_type": "markdown",
   "id": "7d179ac3-a2e4-4a01-9453-0788ea4a4d1f",
   "metadata": {},
   "source": [
    "## Binning"
   ]
  },
  {
   "cell_type": "markdown",
   "id": "38054a80-778a-4de6-8a0f-ababb22df488",
   "metadata": {},
   "source": [
    "### Total CNSD"
   ]
  },
  {
   "cell_type": "code",
   "execution_count": 9,
   "id": "ee29ee9e-44a0-44b1-9c86-3d3b0da2aea5",
   "metadata": {},
   "outputs": [],
   "source": [
    "dmin = 20e3\n",
    "dmax = 200e3\n",
    "diameter_bins = np.logspace(np.log10(dmin), np.log10(dmax))\n",
    "mdia = 0.5 * (diameter_bins[1:] + diameter_bins[:-1])"
   ]
  },
  {
   "cell_type": "code",
   "execution_count": 10,
   "id": "cf06b6cc-2249-447b-a8b1-58a63d90fb37",
   "metadata": {},
   "outputs": [],
   "source": [
    "# Create a 2D histogram (count) of occurrences\n",
    "counts, _ = np.histogram( tracks['diameter'], bins=diameter_bins )"
   ]
  },
  {
   "cell_type": "code",
   "execution_count": 11,
   "id": "2d309ef8-887c-416e-830e-7660903c89ab",
   "metadata": {},
   "outputs": [],
   "source": [
    "counts\n",
    "\n",
    "dlogD = np.diff(np.log(diameter_bins))[0]\n",
    "\n",
    "PDF = counts / (counts.sum() * dlogD)"
   ]
  },
  {
   "cell_type": "markdown",
   "id": "4188e12c-c0be-4c72-badd-d730cfda058d",
   "metadata": {},
   "source": [
    "## Daily CNSD"
   ]
  },
  {
   "cell_type": "code",
   "execution_count": 12,
   "id": "4bea2ad4-0777-4f7f-9f84-d39f07cb156c",
   "metadata": {},
   "outputs": [
    {
     "data": {
      "text/plain": [
       "<DatasetGroupBy, grouped over 1 grouper(s), 30 groups in total:\n",
       "    'day': 30/30 groups present with labels 1, 2, 3, 4, 5, 6, ..., 26, 27, 28, 29, 30>"
      ]
     },
     "execution_count": 12,
     "metadata": {},
     "output_type": "execute_result"
    }
   ],
   "source": [
    "tracks.groupby('time.day')"
   ]
  },
  {
   "cell_type": "code",
   "execution_count": 13,
   "id": "e6794360-1039-4121-9821-8363c5f33d5f",
   "metadata": {},
   "outputs": [],
   "source": [
    "clist = []\n",
    "n = 0\n",
    "for time, tr in tracks.groupby('time.day'):\n",
    "    counts, _ = np.histogram( tr['diameter'], bins=diameter_bins )\n",
    "    cset = xr.DataArray(counts.reshape(-1,1), coords=[diameter_bins[:-1], [time,]], dims=['diameter', 'day'])\n",
    "    \n",
    "    clist +=[ cset,]\n",
    "    n += 1\n",
    "\n",
    "    if n > 10:\n",
    "        break"
   ]
  },
  {
   "cell_type": "code",
   "execution_count": 14,
   "id": "18a9d9fe-afb6-42e7-9182-ff17c69572d1",
   "metadata": {},
   "outputs": [],
   "source": [
    "c = xr.concat( clist, dim = 'day')\n",
    "PDF_daily = c / (c.sum('diameter') * dlogD )"
   ]
  },
  {
   "cell_type": "markdown",
   "id": "39ad92e4-5710-41ae-a1ca-4670f3a63cb9",
   "metadata": {},
   "source": [
    "## Plotting"
   ]
  },
  {
   "cell_type": "code",
   "execution_count": 15,
   "id": "3b3666be-459d-4d25-9e0f-1de9e7df4c8f",
   "metadata": {},
   "outputs": [
    {
     "name": "stderr",
     "output_type": "stream",
     "text": [
      "<>:4: SyntaxWarning: invalid escape sequence '\\l'\n",
      "<>:4: SyntaxWarning: invalid escape sequence '\\l'\n",
      "/tmp/ipykernel_812581/1027156664.py:4: SyntaxWarning: invalid escape sequence '\\l'\n",
      "  plt.ylabel('PDF $dP / d\\ln D$')\n"
     ]
    },
    {
     "data": {
      "image/png": "[encoded data removed]",
      "text/plain": [
       "<Figure size 640x480 with 1 Axes>"
      ]
     },
     "metadata": {},
     "output_type": "display_data"
    }
   ],
   "source": [
    "\n",
    "plt.step(1e-3*mdia, PDF )\n",
    "sns.despine()\n",
    "\n",
    "plt.ylabel('PDF $dP / d\\ln D$')\n",
    "plt.xlabel('equivalent diameter / km')\n",
    "plt.title(f'Precip Cell Number Distribution (cells > 50 mm day-1) for {date}', fontweight = 'bold') \n",
    "plt.xscale('log')\n",
    "plt.yscale('log')\n",
    "plt.xticks( [25, 50, 100, 200], [25, 50, 100, 200]);\n"
   ]
  },
  {
   "cell_type": "code",
   "execution_count": 16,
   "id": "b1173fa1-6aad-4f5f-9cf0-c2ad7527efce",
   "metadata": {},
   "outputs": [
    {
     "name": "stderr",
     "output_type": "stream",
     "text": [
      "<>:8: SyntaxWarning: invalid escape sequence '\\l'\n",
      "<>:8: SyntaxWarning: invalid escape sequence '\\l'\n",
      "/tmp/ipykernel_812581/892454591.py:8: SyntaxWarning: invalid escape sequence '\\l'\n",
      "  plt.ylabel('PDF $dP / d\\ln D$')\n"
     ]
    },
    {
     "data": {
      "image/png": "[encoded data removed]",
      "text/plain": [
       "<Figure size 640x480 with 1 Axes>"
      ]
     },
     "metadata": {},
     "output_type": "display_data"
    }
   ],
   "source": [
    "\n",
    "mPDF = PDF_daily.mean('day')\n",
    "semPDF = 2*PDF_daily.std('day') / np.sqrt(30)\n",
    "\n",
    "plt.step(1e-3*mdia, PDF )\n",
    "plt.errorbar(mdia*1e-3, mPDF, yerr = semPDF ) \n",
    "sns.despine()\n",
    "plt.xlabel('equivalent diameter / km')\n",
    "plt.ylabel('PDF $dP / d\\ln D$')\n",
    "plt.title(f'Precip Cell Number Distribution (cells > 50 mm day-1) for {date}', fontweight = 'bold') \n",
    "plt.xscale('log')\n",
    "plt.yscale('log')\n",
    "plt.xticks( [25, 50, 100, 200], [25, 50, 100, 200]);\n"
   ]
  },
  {
   "cell_type": "markdown",
   "id": "38162c09-192c-49be-9a2d-ae45bea050c2",
   "metadata": {},
   "source": [
    "## Output"
   ]
  },
  {
   "cell_type": "code",
   "execution_count": 17,
   "id": "746146f1-fe88-4cbc-98d0-a95e77e9bf57",
   "metadata": {},
   "outputs": [],
   "source": [
    "main_dir = \"/work/bb1376/user/fabian/data/oxford-hackathon\"\n",
    "outdir = f\"/{main_dir}/{model}/{experiment}/statistics\"\n",
    "\n",
    "PDF_daily.attrs['name'] = 'PDF_CSD'\n",
    "PDF_daily.attrs['long_name'] = 'PDF of global cell size distribution'\n",
    "PDF_daily.attrs['unit'] = '-'\n",
    "\n",
    "outfile = f'{outdir}/global_csd_{subname}_{date}.nc'"
   ]
  },
  {
   "cell_type": "code",
   "execution_count": 19,
   "id": "3c1ff782-ba42-4df4-9449-94b10f583d39",
   "metadata": {},
   "outputs": [],
   "source": [
    "out = xr.Dataset()\n",
    "out['PDF_CSD'] = PDF_daily\n",
    "out.to_netcdf( outfile )\n",
    "#PDF_daily.to_netcdf( outfile )"
   ]
  }
 ],
 "metadata": {
  "kernelspec": {
   "display_name": "2025-oxford-hackathon_env",
   "language": "python",
   "name": "2025-oxford-hackathon_env"
  },
  "language_info": {
   "codemirror_mode": {
    "name": "ipython",
    "version": 3
   },
   "file_extension": ".py",
   "mimetype": "text/x-python",
   "name": "python",
   "nbconvert_exporter": "python",
   "pygments_lexer": "ipython3",
   "version": "3.12.10"
  }
 },
 "nbformat": 4,
 "nbformat_minor": 5
}
