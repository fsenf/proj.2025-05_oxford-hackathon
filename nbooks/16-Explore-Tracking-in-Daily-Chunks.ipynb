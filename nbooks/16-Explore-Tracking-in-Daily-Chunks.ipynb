{
 "cells": [
  {
   "cell_type": "markdown",
   "id": "76c2706a-9116-4043-a6e5-50b5c7f2aa69",
   "metadata": {},
   "source": [
    "# Explore Tracking in Daily Chunks"
   ]
  },
  {
   "cell_type": "code",
   "execution_count": 1,
   "id": "eb135b63-986b-44b7-8280-2c992dca34d7",
   "metadata": {},
   "outputs": [],
   "source": [
    "import sys, os\n",
    "\n",
    "import tobac\n",
    "import datetime\n",
    "\n",
    "import xarray as xr\n",
    "import pandas as pd\n",
    "import numpy as np\n",
    "\n",
    "import pylab as plt\n",
    "import seaborn as sns\n",
    "import cartopy.crs as ccrs\n",
    "import cartopy.feature as cf"
   ]
  },
  {
   "cell_type": "markdown",
   "id": "29f02d8f-7b5a-49fa-a2cd-bed470d1cb40",
   "metadata": {},
   "source": [
    "## Arguments"
   ]
  },
  {
   "cell_type": "code",
   "execution_count": 2,
   "id": "f4006d24-f09d-46d4-b21f-4f6daba602bd",
   "metadata": {
    "tags": []
   },
   "outputs": [],
   "source": [
    "if 'launcher' in sys.argv[0]:\n",
    "    main_dir = '/work/bb1376/user/fabian/data/oxford-hackathon/icon-hamlite/' \n",
    "    fname = f'{main_dir}/r2b9_lite_1224b/precip_features_thresh500/daily_precip_features_thresh500_20200602.nc'    \n",
    "    interactive = True\n",
    "else:\n",
    "    fname = sys.argv[1]\n",
    "    interactive = False"
   ]
  },
  {
   "cell_type": "markdown",
   "id": "b3fa33cf-526a-4701-99f3-73743fa5f79d",
   "metadata": {},
   "source": [
    "## Check if Previous Tracking was done"
   ]
  },
  {
   "cell_type": "code",
   "execution_count": 3,
   "id": "56ddb0fa-7f6e-4b4f-8fc0-dec0a17a99eb",
   "metadata": {},
   "outputs": [],
   "source": [
    "date_str = fname.split('_')[-1].replace('.nc','')"
   ]
  },
  {
   "cell_type": "code",
   "execution_count": 4,
   "id": "c748e2e1-c0dd-44ef-a50e-d6de98f6718f",
   "metadata": {},
   "outputs": [],
   "source": [
    "date = datetime.datetime.strptime(date_str, '%Y%m%d')\n",
    "date_before = date - datetime.timedelta(days = 1)\n"
   ]
  },
  {
   "cell_type": "code",
   "execution_count": 5,
   "id": "a1e65da9-b1cd-44d5-a2c3-c0704657cbdb",
   "metadata": {},
   "outputs": [],
   "source": [
    "date_str_before = date_before.strftime('%Y%m%d')"
   ]
  },
  {
   "cell_type": "code",
   "execution_count": 6,
   "id": "61eb19be-7153-47c6-9eae-bd1be8d36379",
   "metadata": {},
   "outputs": [],
   "source": [
    "feature_file_before = fname.replace(date_str, date_str_before)\n",
    "track_file_before = feature_file_before.replace('feature', 'track')"
   ]
  },
  {
   "cell_type": "code",
   "execution_count": 7,
   "id": "0f9e0b02-e43e-4928-8576-bd346a6a72f7",
   "metadata": {},
   "outputs": [],
   "source": [
    "if os.path.isfile( track_file_before ):\n",
    "    use_prior_tracking = True\n",
    "else:\n",
    "    use_prior_tracking = False\n",
    "    "
   ]
  },
  {
   "cell_type": "markdown",
   "id": "117a925d-21ae-4620-8610-b8e0dd79a553",
   "metadata": {},
   "source": [
    "## Open Data"
   ]
  },
  {
   "cell_type": "code",
   "execution_count": 8,
   "id": "45b3a11a-7de4-4b0d-b4cd-9e5acd94013d",
   "metadata": {},
   "outputs": [
    {
     "name": "stderr",
     "output_type": "stream",
     "text": [
      "/tmp/ipykernel_1826582/1703929213.py:4: FutureWarning: In a future version of xarray decode_timedelta will default to False rather than None. To silence this warning, set decode_timedelta to True, False, or a 'CFTimedeltaCoder' instance.\n",
      "  prior_tracks = xr.open_dataset( track_file_before).to_dataframe()\n"
     ]
    }
   ],
   "source": [
    "features = xr.open_dataset( fname ).to_dataframe()\n",
    "\n",
    "if use_prior_tracking:\n",
    "    prior_tracks = xr.open_dataset( track_file_before).to_dataframe()"
   ]
  },
  {
   "cell_type": "markdown",
   "id": "9776e04d-582b-4318-974a-68d5348190de",
   "metadata": {},
   "source": [
    "## Linking Again"
   ]
  },
  {
   "cell_type": "code",
   "execution_count": 9,
   "id": "4cc68b60-45de-4d83-85c1-c7881e21dff3",
   "metadata": {},
   "outputs": [
    {
     "name": "stdout",
     "output_type": "stream",
     "text": [
      "Frame 191: 2712 trajectories present.\n"
     ]
    }
   ],
   "source": [
    "dt = 15*60\n",
    "dxy = 5e3\n",
    "\n",
    "if not use_prior_tracking:\n",
    "    tracks = tobac.linking_trackpy( features, None, dt, dxy, d_max = 5*dxy, time_cell_min=8*dt )\n",
    "else:\n",
    "    tracks = tobac.tracking.append_tracks_trackpy(\n",
    "        prior_tracks, features,  dt, dxy, d_max = 5*dxy, time_cell_min=8*dt )"
   ]
  },
  {
   "cell_type": "markdown",
   "id": "fa08b837-0c5b-4f2b-87ed-482977e6f532",
   "metadata": {},
   "source": [
    "## Cleanup"
   ]
  },
  {
   "cell_type": "code",
   "execution_count": 10,
   "id": "8c6856c2-7812-4f3c-a9e0-2d74971a22d1",
   "metadata": {},
   "outputs": [],
   "source": [
    "if use_prior_tracking:\n",
    "    last_tmax = prior_tracks.time.max()\n",
    "\n",
    "    mask = tracks['time'] > last_tmax\n",
    "    tracks = tracks[mask]\n"
   ]
  },
  {
   "cell_type": "markdown",
   "id": "1596566b-5656-43d2-b0fd-894177409c1b",
   "metadata": {},
   "source": [
    "## Output"
   ]
  },
  {
   "cell_type": "code",
   "execution_count": 11,
   "id": "101fcb0e-4b3e-4fcc-83be-751e4e7c3654",
   "metadata": {},
   "outputs": [],
   "source": [
    "track_file = fname.replace('feature', 'track')\n",
    "\n",
    "track_dir = os.path.dirname( track_file )\n",
    "\n",
    "if not os.path.isdir( track_dir ):\n",
    "    os.makedirs( track_dir )\n",
    "tracks.to_xarray().to_netcdf(track_file)"
   ]
  }
 ],
 "metadata": {
  "kernelspec": {
   "display_name": "2025-oxford-hackathon_env",
   "language": "python",
   "name": "2025-oxford-hackathon_env"
  },
  "language_info": {
   "codemirror_mode": {
    "name": "ipython",
    "version": 3
   },
   "file_extension": ".py",
   "mimetype": "text/x-python",
   "name": "python",
   "nbconvert_exporter": "python",
   "pygments_lexer": "ipython3",
   "version": "3.12.10"
  }
 },
 "nbformat": 4,
 "nbformat_minor": 5
}
