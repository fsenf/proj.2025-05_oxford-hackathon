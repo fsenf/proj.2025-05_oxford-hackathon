{
 "cells": [
  {
   "cell_type": "markdown",
   "id": "4ffb3e84-1700-4e55-9716-cf525b7bdc9b",
   "metadata": {},
   "source": [
    "# Calculation of Lifetime Histogramms"
   ]
  },
  {
   "cell_type": "markdown",
   "id": "80a9927f-f57a-4c82-9f20-704b37f42e08",
   "metadata": {},
   "source": [
    "## Libs Sections "
   ]
  },
  {
   "cell_type": "code",
   "execution_count": 1,
   "id": "b4bb6c01-02ac-40d5-a7c7-1ff399acfdaa",
   "metadata": {
    "tags": []
   },
   "outputs": [],
   "source": [
    "import xarray as xr\n",
    "import numpy as np\n",
    "import pandas as pd\n",
    "\n",
    "import matplotlib.pyplot as plt\n",
    "import seaborn as sns\n",
    "#sns.set_context('talk')\n",
    "import cartopy.crs as ccrs\n",
    "import cartopy.feature as cf\n",
    "\n",
    "\n",
    "import glob\n",
    "\n",
    "import tobac\n",
    "import sys\n",
    "import json\n",
    "import datetime\n"
   ]
  },
  {
   "cell_type": "markdown",
   "id": "77e6b7e2-0955-4c52-bff5-2d2a5dd64c11",
   "metadata": {},
   "source": [
    "## Arguments"
   ]
  },
  {
   "cell_type": "code",
   "execution_count": 2,
   "id": "b140efe8-991e-49d4-a1f4-6e7bb062deae",
   "metadata": {
    "tags": []
   },
   "outputs": [],
   "source": [
    "if 'launcher' in sys.argv[0]:\n",
    "    config_file = '../scripts/config/config_precip200.json'\n",
    "    date = '202006'\n",
    "    interactive = True\n",
    "else:\n",
    "    config_file = sys.argv[1]\n",
    "    date = sys.argv[2]\n",
    "    interactive = False"
   ]
  },
  {
   "cell_type": "markdown",
   "id": "4a529d25-8a0f-4557-97b8-b3f2b68bb5df",
   "metadata": {},
   "source": [
    "## Configuration"
   ]
  },
  {
   "cell_type": "code",
   "execution_count": 3,
   "id": "471a7f9f-a2d9-4f72-9716-9e554c4cb026",
   "metadata": {},
   "outputs": [],
   "source": [
    "with open(config_file, \"r\") as fp:\n",
    "    conf = json.load(fp)\n",
    "globals().update(conf)"
   ]
  },
  {
   "cell_type": "markdown",
   "id": "eaca5569-71b2-4316-9d12-d026e6ead9a7",
   "metadata": {},
   "source": [
    "## Input Data "
   ]
  },
  {
   "cell_type": "code",
   "execution_count": null,
   "id": "29216675-cee5-41a9-a187-dbd64c0fefaa",
   "metadata": {
    "tags": []
   },
   "outputs": [
    {
     "name": "stderr",
     "output_type": "stream",
     "text": [
      "/tmp/ipykernel_341729/495777556.py:7: FutureWarning: In a future version of xarray decode_timedelta will default to False rather than None. To silence this warning, set decode_timedelta to True, False, or a 'CFTimedeltaCoder' instance.\n",
      "  tracks = xr.open_dataset( infile, chunks = 'auto' )\n"
     ]
    }
   ],
   "source": [
    "main_dir = \"/work/bb1376/user/fabian/data/oxford-hackathon\"\n",
    "subname = f\"{vname}_tracks_thresh{threshold}\"\n",
    "\n",
    "input_dir = f\"/{main_dir}/{model}/{experiment}/tracks\"\n",
    "infile = f'{input_dir}/monthly_{subname}_{date}.nc'\n",
    "\n",
    "tracks = xr.open_dataset( infile, chunks = 'auto' )\n",
    "\n",
    "# tracks = tracks.isel(index = slice(0,100000)).load()\n",
    "\n",
    "tracks = tracks.dropna('index').load()\n",
    "\n",
    "tracks['ones'] = xr.ones_like(tracks['total'])\n",
    "del tracks['timestr']"
   ]
  },
  {
   "cell_type": "markdown",
   "id": "25dc9e97-f7f7-497d-ac59-c91028acd740",
   "metadata": {},
   "source": [
    "## Lifetime Calculations"
   ]
  },
  {
   "cell_type": "code",
   "execution_count": null,
   "id": "a5848657-3c96-43be-a2b6-169ae869133d",
   "metadata": {},
   "outputs": [],
   "source": [
    "tg = tracks.groupby('cell')"
   ]
  },
  {
   "cell_type": "code",
   "execution_count": null,
   "id": "0bbe7e1d-b44c-4581-a371-24dfa55f90c6",
   "metadata": {},
   "outputs": [],
   "source": [
    "track_sum = tg.sum()"
   ]
  },
  {
   "cell_type": "code",
   "execution_count": null,
   "id": "6580290f-a463-47ba-ac1b-a39dc6aedeec",
   "metadata": {},
   "outputs": [],
   "source": [
    "t0 = datetime.datetime(2020,6,1)\n",
    "track_sum['time'] = np.datetime64(t0) + track_sum['time_cell']"
   ]
  },
  {
   "cell_type": "code",
   "execution_count": null,
   "id": "e3ce0c6a-8785-45f9-9f30-2d08f7b6e8df",
   "metadata": {},
   "outputs": [],
   "source": [
    "dt = 0.25\n",
    "d = xr.Dataset()\n",
    "d['lifetime'] = dt * track_sum['ones']\n",
    "d['time'] = track_sum['time']\n"
   ]
  },
  {
   "cell_type": "code",
   "execution_count": null,
   "id": "2f327cda-95b3-415e-a344-fc6f87e5333c",
   "metadata": {},
   "outputs": [],
   "source": [
    "d"
   ]
  },
  {
   "cell_type": "code",
   "execution_count": null,
   "id": "4c704efc-a33f-492f-8399-9e43a331d030",
   "metadata": {},
   "outputs": [],
   "source": [
    "d['lifetime'].min(), d['lifetime'].max()"
   ]
  },
  {
   "cell_type": "code",
   "execution_count": null,
   "id": "5b55e1da-9b3b-48eb-9f01-80faa39ec7da",
   "metadata": {},
   "outputs": [],
   "source": [
    "dt = 1\n",
    "lifetime_bins = np.arange(0,48, dt)\n",
    "ltime_mean = 0.5 * (lifetime_bins[1:] + lifetime_bins[:-1])"
   ]
  },
  {
   "cell_type": "code",
   "execution_count": null,
   "id": "e509b9a7-f8e3-4e6a-8ee4-78667e21fe5d",
   "metadata": {},
   "outputs": [],
   "source": [
    "clist = []\n",
    "n = 0\n",
    "for time, tr in d.groupby('time.day'):\n",
    "    counts, _ = np.histogram( tr['lifetime'], bins=lifetime_bins )\n",
    "    cset = xr.DataArray(counts.reshape(-1,1), coords=[lifetime_bins[:-1], [time,]], dims=['lifetime', 'day'])\n",
    "    \n",
    "    clist +=[ cset,]\n",
    "    n += 1"
   ]
  },
  {
   "cell_type": "code",
   "execution_count": null,
   "id": "9c2e225f-5f2e-4680-ae51-313c0f63f03a",
   "metadata": {},
   "outputs": [],
   "source": [
    "c = xr.concat( clist, dim = 'day')\n",
    "PDF_daily = c / (c.sum('lifetime') * dt )"
   ]
  },
  {
   "cell_type": "markdown",
   "id": "0c8aa345-7008-42d5-aa3b-329fcf48eab7",
   "metadata": {},
   "source": [
    "## Plotting"
   ]
  },
  {
   "cell_type": "code",
   "execution_count": null,
   "id": "f0a41059-deef-4a17-bed0-a118d2863a94",
   "metadata": {},
   "outputs": [],
   "source": [
    "if interactive:\n",
    "    mPDF = PDF_daily.mean('day')\n",
    "    semPDF = 2*PDF_daily.std('day') / np.sqrt(30)\n",
    "    \n",
    "    plt.errorbar(ltime_mean, mPDF, yerr = semPDF ) \n",
    "    sns.despine()\n",
    "    plt.xlabel('lifetime / hr')\n",
    "    plt.ylabel('PDF $dP / dT$')\n",
    "    plt.title(f'Precip Cell Lifetime Distribution (cells > 50 mm day-1) for {date}', fontweight = 'bold') \n",
    "    #plt.xscale('log')\n",
    "    plt.yscale('log')\n",
    "    #plt.xticks( [25, 50, 100, 200], [25, 50, 100, 200]);\n"
   ]
  },
  {
   "cell_type": "markdown",
   "id": "7f049cf9-9eee-486c-a427-db10d5b6476a",
   "metadata": {},
   "source": [
    "## Output"
   ]
  },
  {
   "cell_type": "code",
   "execution_count": null,
   "id": "22edc38f-c204-4ae5-a66a-e13feb1b20cb",
   "metadata": {},
   "outputs": [],
   "source": [
    "main_dir = \"/work/bb1376/user/fabian/data/oxford-hackathon\"\n",
    "outdir = f\"/{main_dir}/{model}/{experiment}/statistics\"\n",
    "\n",
    "PDF_daily.attrs['name'] = 'PDF_Lifetime'\n",
    "PDF_daily.attrs['long_name'] = 'PDF of global lifetime distribution'\n",
    "PDF_daily.attrs['unit'] = '-'\n",
    "\n",
    "outfile = f'{outdir}/global_lifetime_{subname}_{date}.nc'"
   ]
  },
  {
   "cell_type": "code",
   "execution_count": null,
   "id": "6ad2a6ad-6cad-4788-abf3-bd72a7b11ebe",
   "metadata": {},
   "outputs": [],
   "source": [
    "out = xr.Dataset()\n",
    "out['PDF_CSD'] = PDF_daily\n",
    "out.to_netcdf( outfile )"
   ]
  }
 ],
 "metadata": {
  "kernelspec": {
   "display_name": "2025-oxford-hackathon_env",
   "language": "python",
   "name": "2025-oxford-hackathon_env"
  },
  "language_info": {
   "codemirror_mode": {
    "name": "ipython",
    "version": 3
   },
   "file_extension": ".py",
   "mimetype": "text/x-python",
   "name": "python",
   "nbconvert_exporter": "python",
   "pygments_lexer": "ipython3",
   "version": "3.12.10"
  }
 },
 "nbformat": 4,
 "nbformat_minor": 5
}
