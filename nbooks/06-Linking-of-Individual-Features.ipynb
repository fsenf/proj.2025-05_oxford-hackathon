{
 "cells": [
  {
   "cell_type": "markdown",
   "id": "4ffb3e84-1700-4e55-9716-cf525b7bdc9b",
   "metadata": {},
   "source": [
    "# Linking of Individual Features"
   ]
  },
  {
   "cell_type": "markdown",
   "id": "80a9927f-f57a-4c82-9f20-704b37f42e08",
   "metadata": {},
   "source": [
    "## Libs Sections "
   ]
  },
  {
   "cell_type": "code",
   "execution_count": 1,
   "id": "b4bb6c01-02ac-40d5-a7c7-1ff399acfdaa",
   "metadata": {
    "tags": []
   },
   "outputs": [],
   "source": [
    "import xarray as xr\n",
    "import numpy as np\n",
    "import pandas as pd\n",
    "\n",
    "import matplotlib.pyplot as plt\n",
    "#import seaborn as sns\n",
    "#sns.set_context('talk')\n",
    "import cartopy.crs as ccrs\n",
    "import cartopy.feature as cf\n",
    "\n",
    "\n",
    "import glob\n",
    "\n",
    "import tobac\n",
    "import sys, os\n",
    "import json\n",
    "\n"
   ]
  },
  {
   "cell_type": "markdown",
   "id": "a68d6219-20a6-4548-b367-0da3cab94a3b",
   "metadata": {},
   "source": [
    "## Arguments"
   ]
  },
  {
   "cell_type": "code",
   "execution_count": 2,
   "id": "71872b1e-af5e-424b-b2e5-87f66c8fe3b7",
   "metadata": {
    "tags": []
   },
   "outputs": [],
   "source": [
    "if 'launcher' in sys.argv[0]:\n",
    "    config_file = '../scripts/config/config_precip100.json'\n",
    "    date = '202006'\n",
    "    interactive = True\n",
    "else:\n",
    "    config_file = sys.argv[1]\n",
    "    date = sys.argv[2]\n",
    "    interactive = False"
   ]
  },
  {
   "cell_type": "markdown",
   "id": "7203f898-a760-4b86-b028-3390556c0021",
   "metadata": {},
   "source": [
    "## Configuration"
   ]
  },
  {
   "cell_type": "code",
   "execution_count": 3,
   "id": "572977ae-b53c-4427-a036-a9de16403845",
   "metadata": {},
   "outputs": [],
   "source": [
    "with open(config_file, \"r\") as fp:\n",
    "    conf = json.load(fp)\n",
    "globals().update(conf)"
   ]
  },
  {
   "cell_type": "markdown",
   "id": "eaca5569-71b2-4316-9d12-d026e6ead9a7",
   "metadata": {},
   "source": [
    "## Input Data "
   ]
  },
  {
   "cell_type": "code",
   "execution_count": 4,
   "id": "29216675-cee5-41a9-a187-dbd64c0fefaa",
   "metadata": {
    "tags": []
   },
   "outputs": [],
   "source": [
    "main_dir = \"/work/bb1376/user/fabian/data/oxford-hackathon\"\n",
    "subname = f\"{vname}_features_thresh{threshold}\"\n",
    "\n",
    "input_dir = f\"/{main_dir}/{model}/{experiment}/{subname}\"\n",
    "\n",
    "infile =  f'{input_dir}/monthly_{subname}_{date}.nc'"
   ]
  },
  {
   "cell_type": "code",
   "execution_count": 5,
   "id": "d7f388e1-285c-4210-a3a5-abf92ecce2f3",
   "metadata": {
    "tags": []
   },
   "outputs": [],
   "source": [
    "min_vlist = ['frame','hdim_1','hdim_2', 'time']\n",
    "all_feats = xr.open_dataset( infile )\n",
    "\n",
    "selected_feats = all_feats[min_vlist].to_dataframe()\n"
   ]
  },
  {
   "cell_type": "code",
   "execution_count": 6,
   "id": "281c3de7-b0fa-4ac3-b26c-d661759ac514",
   "metadata": {},
   "outputs": [],
   "source": [
    "features = selected_feats # [selected_feats[\"frame\"] < 100]\n",
    "\n",
    "# features = xr.open_dataset( infile )\n",
    "# features = features.isel(index=slice(0,100000,10)).to_dataframe()"
   ]
  },
  {
   "cell_type": "markdown",
   "id": "c7ca9ddc-3492-47f8-ac68-8c8dc1aa10d5",
   "metadata": {},
   "source": [
    "## Dummy Data"
   ]
  },
  {
   "cell_type": "code",
   "execution_count": 15,
   "id": "96169796-1ee9-48ab-a6a1-24cd26bb9db5",
   "metadata": {},
   "outputs": [],
   "source": [
    "dummy = None"
   ]
  },
  {
   "cell_type": "markdown",
   "id": "669f8de9-1a05-40ba-845e-f2a4363cbea8",
   "metadata": {},
   "source": [
    "## Linking"
   ]
  },
  {
   "cell_type": "code",
   "execution_count": 9,
   "id": "f33251c5-2bd5-49f3-a283-1afaa0628229",
   "metadata": {},
   "outputs": [],
   "source": [
    "# Keyword arguments for linking step:\n",
    "parameters_linking={}\n",
    "parameters_linking['method_linking']='predict'\n",
    "parameters_linking['adaptive_stop']=0.2\n",
    "parameters_linking['adaptive_step']=0.95\n",
    "parameters_linking['extrapolate']=0\n",
    "parameters_linking['order']=1\n",
    "parameters_linking['subnetwork_size']=100\n",
    "parameters_linking['memory']=3\n",
    "parameters_linking['time_cell_min']=30*60\n",
    "parameters_linking['method_linking']='predict'\n",
    "parameters_linking['v_max']=30"
   ]
  },
  {
   "cell_type": "code",
   "execution_count": 10,
   "id": "fa4449fe-2509-4649-94ae-f32afae565dd",
   "metadata": {
    "tags": []
   },
   "outputs": [
    {
     "name": "stdout",
     "output_type": "stream",
     "text": [
      "Frame 99: 8493 trajectories present.\n",
      "CPU times: user 29.8 s, sys: 104 ms, total: 29.9 s\n",
      "Wall time: 30.4 s\n"
     ]
    }
   ],
   "source": [
    " #  %%time\n",
    "\n",
    "dt = 15*60\n",
    "dxy = 5000.\n",
    "tracks = tobac.linking_trackpy(features,dummy,dt=dt,dxy=dxy,**parameters_linking)"
   ]
  },
  {
   "cell_type": "markdown",
   "id": "32e29dde-f981-402a-b46c-9c0fe1370626",
   "metadata": {},
   "source": [
    "## Output"
   ]
  },
  {
   "cell_type": "code",
   "execution_count": 11,
   "id": "0591c41e-5b65-485b-8b10-56b9c221b5bf",
   "metadata": {},
   "outputs": [],
   "source": [
    "xtracks = tracks.to_xarray()"
   ]
  },
  {
   "cell_type": "code",
   "execution_count": 12,
   "id": "80f43a54-f16b-4367-b555-cd15386f0634",
   "metadata": {},
   "outputs": [],
   "source": [
    "xtracks = xr.merge([xtracks,all_feats])"
   ]
  },
  {
   "cell_type": "code",
   "execution_count": 13,
   "id": "b9ee6353-2792-42c8-ae27-8f323af399d5",
   "metadata": {},
   "outputs": [],
   "source": [
    "outdir = f\"/{main_dir}/{model}/{experiment}/tracks\"\n",
    "\n",
    "if not os.path.isdir( outdir ):\n",
    "    os.makedirs( outdir )\n",
    "\n",
    "newsub = subname.replace('feature', 'track')\n",
    "outfile = f'{outdir}/monthly_{newsub}_{date}.nc'\n",
    "\n",
    "delayed = xtracks.to_netcdf( outfile, compute = False  )"
   ]
  },
  {
   "cell_type": "code",
   "execution_count": 14,
   "id": "ff3b4d90-4971-4f1f-a3a3-690d921a20be",
   "metadata": {},
   "outputs": [
    {
     "name": "stdout",
     "output_type": "stream",
     "text": [
      "[########################################] | 100% Completed | 101.19 ms\n"
     ]
    }
   ],
   "source": [
    "from dask.diagnostics import ProgressBar\n",
    "with ProgressBar():\n",
    "    delayed.compute()"
   ]
  },
  {
   "cell_type": "code",
   "execution_count": null,
   "id": "df5bd686-b8a5-4cbb-8e44-3556578fa28b",
   "metadata": {},
   "outputs": [],
   "source": []
  }
 ],
 "metadata": {
  "kernelspec": {
   "display_name": "2025-oxford-hackathon_env",
   "language": "python",
   "name": "2025-oxford-hackathon_env"
  },
  "language_info": {
   "codemirror_mode": {
    "name": "ipython",
    "version": 3
   },
   "file_extension": ".py",
   "mimetype": "text/x-python",
   "name": "python",
   "nbconvert_exporter": "python",
   "pygments_lexer": "ipython3",
   "version": "3.12.10"
  }
 },
 "nbformat": 4,
 "nbformat_minor": 5
}
